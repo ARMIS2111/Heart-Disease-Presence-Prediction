{
 "cells": [
  {
   "cell_type": "code",
   "execution_count": 1,
   "id": "02b048fe",
   "metadata": {
    "_cell_guid": "b1076dfc-b9ad-4769-8c92-a6c4dae69d19",
    "_uuid": "8f2839f25d086af736a60e9eeb907d3b93b6e0e5",
    "execution": {
     "iopub.execute_input": "2022-08-27T18:11:15.320480Z",
     "iopub.status.busy": "2022-08-27T18:11:15.319576Z",
     "iopub.status.idle": "2022-08-27T18:11:15.333739Z",
     "shell.execute_reply": "2022-08-27T18:11:15.332846Z"
    },
    "papermill": {
     "duration": 0.030993,
     "end_time": "2022-08-27T18:11:15.336232",
     "exception": false,
     "start_time": "2022-08-27T18:11:15.305239",
     "status": "completed"
    },
    "tags": []
   },
   "outputs": [],
   "source": [
    "import pandas as pd\n",
    "import seaborn as sns\n",
    "import matplotlib.pyplot as plt"
   ]
  },
  {
   "cell_type": "code",
   "execution_count": 2,
   "id": "9f720f23",
   "metadata": {
    "execution": {
     "iopub.execute_input": "2022-08-27T18:11:15.354494Z",
     "iopub.status.busy": "2022-08-27T18:11:15.353740Z",
     "iopub.status.idle": "2022-08-27T18:11:15.374045Z",
     "shell.execute_reply": "2022-08-27T18:11:15.373017Z"
    },
    "papermill": {
     "duration": 0.032234,
     "end_time": "2022-08-27T18:11:15.376588",
     "exception": false,
     "start_time": "2022-08-27T18:11:15.344354",
     "status": "completed"
    },
    "tags": []
   },
   "outputs": [],
   "source": [
    "df = pd.read_csv(\"Heart_Disease_Prediction.csv\")"
   ]
  },
  {
   "cell_type": "code",
   "execution_count": 3,
   "id": "dc009a5f",
   "metadata": {
    "execution": {
     "iopub.execute_input": "2022-08-27T18:11:15.394859Z",
     "iopub.status.busy": "2022-08-27T18:11:15.393838Z",
     "iopub.status.idle": "2022-08-27T18:11:15.421352Z",
     "shell.execute_reply": "2022-08-27T18:11:15.419837Z"
    },
    "papermill": {
     "duration": 0.040589,
     "end_time": "2022-08-27T18:11:15.425225",
     "exception": false,
     "start_time": "2022-08-27T18:11:15.384636",
     "status": "completed"
    },
    "tags": []
   },
   "outputs": [
    {
     "data": {
      "text/html": [
       "<div>\n",
       "<style scoped>\n",
       "    .dataframe tbody tr th:only-of-type {\n",
       "        vertical-align: middle;\n",
       "    }\n",
       "\n",
       "    .dataframe tbody tr th {\n",
       "        vertical-align: top;\n",
       "    }\n",
       "\n",
       "    .dataframe thead th {\n",
       "        text-align: right;\n",
       "    }\n",
       "</style>\n",
       "<table border=\"1\" class=\"dataframe\">\n",
       "  <thead>\n",
       "    <tr style=\"text-align: right;\">\n",
       "      <th></th>\n",
       "      <th>Age</th>\n",
       "      <th>Sex</th>\n",
       "      <th>Chest pain type</th>\n",
       "      <th>BP</th>\n",
       "      <th>Cholesterol</th>\n",
       "      <th>FBS over 120</th>\n",
       "      <th>EKG results</th>\n",
       "      <th>Max HR</th>\n",
       "      <th>Exercise angina</th>\n",
       "      <th>ST depression</th>\n",
       "      <th>Slope of ST</th>\n",
       "      <th>Number of vessels fluro</th>\n",
       "      <th>Thallium</th>\n",
       "      <th>Heart Disease</th>\n",
       "    </tr>\n",
       "  </thead>\n",
       "  <tbody>\n",
       "    <tr>\n",
       "      <th>0</th>\n",
       "      <td>70</td>\n",
       "      <td>1</td>\n",
       "      <td>4</td>\n",
       "      <td>130</td>\n",
       "      <td>322</td>\n",
       "      <td>0</td>\n",
       "      <td>2</td>\n",
       "      <td>109</td>\n",
       "      <td>0</td>\n",
       "      <td>2.4</td>\n",
       "      <td>2</td>\n",
       "      <td>3</td>\n",
       "      <td>3</td>\n",
       "      <td>Presence</td>\n",
       "    </tr>\n",
       "    <tr>\n",
       "      <th>1</th>\n",
       "      <td>67</td>\n",
       "      <td>0</td>\n",
       "      <td>3</td>\n",
       "      <td>115</td>\n",
       "      <td>564</td>\n",
       "      <td>0</td>\n",
       "      <td>2</td>\n",
       "      <td>160</td>\n",
       "      <td>0</td>\n",
       "      <td>1.6</td>\n",
       "      <td>2</td>\n",
       "      <td>0</td>\n",
       "      <td>7</td>\n",
       "      <td>Absence</td>\n",
       "    </tr>\n",
       "    <tr>\n",
       "      <th>2</th>\n",
       "      <td>57</td>\n",
       "      <td>1</td>\n",
       "      <td>2</td>\n",
       "      <td>124</td>\n",
       "      <td>261</td>\n",
       "      <td>0</td>\n",
       "      <td>0</td>\n",
       "      <td>141</td>\n",
       "      <td>0</td>\n",
       "      <td>0.3</td>\n",
       "      <td>1</td>\n",
       "      <td>0</td>\n",
       "      <td>7</td>\n",
       "      <td>Presence</td>\n",
       "    </tr>\n",
       "    <tr>\n",
       "      <th>3</th>\n",
       "      <td>64</td>\n",
       "      <td>1</td>\n",
       "      <td>4</td>\n",
       "      <td>128</td>\n",
       "      <td>263</td>\n",
       "      <td>0</td>\n",
       "      <td>0</td>\n",
       "      <td>105</td>\n",
       "      <td>1</td>\n",
       "      <td>0.2</td>\n",
       "      <td>2</td>\n",
       "      <td>1</td>\n",
       "      <td>7</td>\n",
       "      <td>Absence</td>\n",
       "    </tr>\n",
       "    <tr>\n",
       "      <th>4</th>\n",
       "      <td>74</td>\n",
       "      <td>0</td>\n",
       "      <td>2</td>\n",
       "      <td>120</td>\n",
       "      <td>269</td>\n",
       "      <td>0</td>\n",
       "      <td>2</td>\n",
       "      <td>121</td>\n",
       "      <td>1</td>\n",
       "      <td>0.2</td>\n",
       "      <td>1</td>\n",
       "      <td>1</td>\n",
       "      <td>3</td>\n",
       "      <td>Absence</td>\n",
       "    </tr>\n",
       "  </tbody>\n",
       "</table>\n",
       "</div>"
      ],
      "text/plain": [
       "   Age  Sex  Chest pain type   BP  Cholesterol  FBS over 120  EKG results  \\\n",
       "0   70    1                4  130          322             0            2   \n",
       "1   67    0                3  115          564             0            2   \n",
       "2   57    1                2  124          261             0            0   \n",
       "3   64    1                4  128          263             0            0   \n",
       "4   74    0                2  120          269             0            2   \n",
       "\n",
       "   Max HR  Exercise angina  ST depression  Slope of ST  \\\n",
       "0     109                0            2.4            2   \n",
       "1     160                0            1.6            2   \n",
       "2     141                0            0.3            1   \n",
       "3     105                1            0.2            2   \n",
       "4     121                1            0.2            1   \n",
       "\n",
       "   Number of vessels fluro  Thallium Heart Disease  \n",
       "0                        3         3      Presence  \n",
       "1                        0         7       Absence  \n",
       "2                        0         7      Presence  \n",
       "3                        1         7       Absence  \n",
       "4                        1         3       Absence  "
      ]
     },
     "execution_count": 3,
     "metadata": {},
     "output_type": "execute_result"
    }
   ],
   "source": [
    "df.head()"
   ]
  },
  {
   "cell_type": "markdown",
   "id": "14584d3e",
   "metadata": {},
   "source": [
    "### Age distribution plot"
   ]
  },
  {
   "cell_type": "code",
   "execution_count": 4,
   "id": "326c53d1",
   "metadata": {
    "execution": {
     "iopub.execute_input": "2022-08-27T18:11:15.453592Z",
     "iopub.status.busy": "2022-08-27T18:11:15.451117Z",
     "iopub.status.idle": "2022-08-27T18:11:16.787808Z",
     "shell.execute_reply": "2022-08-27T18:11:16.786627Z"
    },
    "papermill": {
     "duration": 1.352639,
     "end_time": "2022-08-27T18:11:16.790374",
     "exception": false,
     "start_time": "2022-08-27T18:11:15.437735",
     "status": "completed"
    },
    "tags": []
   },
   "outputs": [
    {
     "name": "stderr",
     "output_type": "stream",
     "text": [
      "C:\\Users\\KIIT\\AppData\\Local\\Temp\\ipykernel_10216\\1599895865.py:1: UserWarning: \n",
      "\n",
      "`distplot` is a deprecated function and will be removed in seaborn v0.14.0.\n",
      "\n",
      "Please adapt your code to use either `displot` (a figure-level function with\n",
      "similar flexibility) or `histplot` (an axes-level function for histograms).\n",
      "\n",
      "For a guide to updating your code to use the new functions, please see\n",
      "https://gist.github.com/mwaskom/de44147ed2974457ad6372750bbe5751\n",
      "\n",
      "  sns.distplot(df['Age'])\n"
     ]
    },
    {
     "data": {
      "image/png": "[encoded data removed]",
      "text/plain": [
       "<Figure size 640x480 with 1 Axes>"
      ]
     },
     "metadata": {},
     "output_type": "display_data"
    }
   ],
   "source": [
    "sns.distplot(df['Age'])\n",
    "plt.show()"
   ]
  },
  {
   "cell_type": "code",
   "execution_count": 5,
   "id": "5e4b13f8",
   "metadata": {
    "execution": {
     "iopub.execute_input": "2022-08-27T18:11:16.809143Z",
     "iopub.status.busy": "2022-08-27T18:11:16.808722Z",
     "iopub.status.idle": "2022-08-27T18:11:17.048382Z",
     "shell.execute_reply": "2022-08-27T18:11:17.047181Z"
    },
    "papermill": {
     "duration": 0.251837,
     "end_time": "2022-08-27T18:11:17.050936",
     "exception": false,
     "start_time": "2022-08-27T18:11:16.799099",
     "status": "completed"
    },
    "tags": []
   },
   "outputs": [
    {
     "data": {
      "text/plain": [
       "<AxesSubplot: xlabel='Age', ylabel='Count'>"
      ]
     },
     "execution_count": 5,
     "metadata": {},
     "output_type": "execute_result"
    },
    {
     "data": {
      "image/png": "[encoded data removed]",
      "text/plain": [
       "<Figure size 640x480 with 1 Axes>"
      ]
     },
     "metadata": {},
     "output_type": "display_data"
    }
   ],
   "source": [
    "sns.histplot(df['Age'])"
   ]
  },
  {
   "cell_type": "markdown",
   "id": "708edc84",
   "metadata": {},
   "source": [
    "### Sex Distribution plot"
   ]
  },
  {
   "cell_type": "code",
   "execution_count": 6,
   "id": "793eba23",
   "metadata": {
    "execution": {
     "iopub.execute_input": "2022-08-27T18:11:17.070765Z",
     "iopub.status.busy": "2022-08-27T18:11:17.070300Z",
     "iopub.status.idle": "2022-08-27T18:11:17.198163Z",
     "shell.execute_reply": "2022-08-27T18:11:17.197215Z"
    },
    "papermill": {
     "duration": 0.140483,
     "end_time": "2022-08-27T18:11:17.200584",
     "exception": false,
     "start_time": "2022-08-27T18:11:17.060101",
     "status": "completed"
    },
    "tags": []
   },
   "outputs": [
    {
     "data": {
      "text/plain": [
       "<AxesSubplot: >"
      ]
     },
     "execution_count": 6,
     "metadata": {},
     "output_type": "execute_result"
    },
    {
     "data": {
      "image/png": "[encoded data removed]",
      "text/plain": [
       "<Figure size 640x480 with 1 Axes>"
      ]
     },
     "metadata": {},
     "output_type": "display_data"
    }
   ],
   "source": [
    "sns.barplot(df, x=df['Sex'].value_counts().keys(), y=df['Sex'].value_counts().values)"
   ]
  },
  {
   "cell_type": "markdown",
   "id": "f369c9a8",
   "metadata": {},
   "source": [
    "### Chest Pain Distribution Plot"
   ]
  },
  {
   "cell_type": "code",
   "execution_count": 7,
   "id": "7d422d8f",
   "metadata": {
    "execution": {
     "iopub.execute_input": "2022-08-27T18:11:17.221854Z",
     "iopub.status.busy": "2022-08-27T18:11:17.221150Z",
     "iopub.status.idle": "2022-08-27T18:11:17.418258Z",
     "shell.execute_reply": "2022-08-27T18:11:17.417364Z"
    },
    "papermill": {
     "duration": 0.210843,
     "end_time": "2022-08-27T18:11:17.420972",
     "exception": false,
     "start_time": "2022-08-27T18:11:17.210129",
     "status": "completed"
    },
    "tags": []
   },
   "outputs": [
    {
     "data": {
      "text/plain": [
       "<AxesSubplot: >"
      ]
     },
     "execution_count": 7,
     "metadata": {},
     "output_type": "execute_result"
    },
    {
     "data": {
      "image/png": "[encoded data removed]",
      "text/plain": [
       "<Figure size 640x480 with 1 Axes>"
      ]
     },
     "metadata": {},
     "output_type": "display_data"
    }
   ],
   "source": [
    "sns.barplot(df, x=df['Chest pain type'].value_counts().keys(),y=df['Chest pain type'].value_counts().values)"
   ]
  },
  {
   "cell_type": "code",
   "execution_count": 8,
   "id": "69c085c2",
   "metadata": {
    "execution": {
     "iopub.execute_input": "2022-08-27T18:11:17.443350Z",
     "iopub.status.busy": "2022-08-27T18:11:17.442646Z",
     "iopub.status.idle": "2022-08-27T18:11:17.459865Z",
     "shell.execute_reply": "2022-08-27T18:11:17.458670Z"
    },
    "papermill": {
     "duration": 0.030618,
     "end_time": "2022-08-27T18:11:17.462413",
     "exception": false,
     "start_time": "2022-08-27T18:11:17.431795",
     "status": "completed"
    },
    "tags": []
   },
   "outputs": [
    {
     "data": {
      "text/html": [
       "<div>\n",
       "<style scoped>\n",
       "    .dataframe tbody tr th:only-of-type {\n",
       "        vertical-align: middle;\n",
       "    }\n",
       "\n",
       "    .dataframe tbody tr th {\n",
       "        vertical-align: top;\n",
       "    }\n",
       "\n",
       "    .dataframe thead th {\n",
       "        text-align: right;\n",
       "    }\n",
       "</style>\n",
       "<table border=\"1\" class=\"dataframe\">\n",
       "  <thead>\n",
       "    <tr style=\"text-align: right;\">\n",
       "      <th></th>\n",
       "      <th>Age</th>\n",
       "      <th>Sex</th>\n",
       "      <th>Chest pain type</th>\n",
       "      <th>BP</th>\n",
       "      <th>Cholesterol</th>\n",
       "      <th>FBS over 120</th>\n",
       "      <th>EKG results</th>\n",
       "      <th>Max HR</th>\n",
       "      <th>Exercise angina</th>\n",
       "      <th>ST depression</th>\n",
       "      <th>Slope of ST</th>\n",
       "      <th>Number of vessels fluro</th>\n",
       "      <th>Thallium</th>\n",
       "      <th>Heart Disease</th>\n",
       "    </tr>\n",
       "  </thead>\n",
       "  <tbody>\n",
       "    <tr>\n",
       "      <th>0</th>\n",
       "      <td>70</td>\n",
       "      <td>1</td>\n",
       "      <td>4</td>\n",
       "      <td>130</td>\n",
       "      <td>322</td>\n",
       "      <td>0</td>\n",
       "      <td>2</td>\n",
       "      <td>109</td>\n",
       "      <td>0</td>\n",
       "      <td>2.4</td>\n",
       "      <td>2</td>\n",
       "      <td>3</td>\n",
       "      <td>3</td>\n",
       "      <td>Presence</td>\n",
       "    </tr>\n",
       "    <tr>\n",
       "      <th>1</th>\n",
       "      <td>67</td>\n",
       "      <td>0</td>\n",
       "      <td>3</td>\n",
       "      <td>115</td>\n",
       "      <td>564</td>\n",
       "      <td>0</td>\n",
       "      <td>2</td>\n",
       "      <td>160</td>\n",
       "      <td>0</td>\n",
       "      <td>1.6</td>\n",
       "      <td>2</td>\n",
       "      <td>0</td>\n",
       "      <td>7</td>\n",
       "      <td>Absence</td>\n",
       "    </tr>\n",
       "    <tr>\n",
       "      <th>2</th>\n",
       "      <td>57</td>\n",
       "      <td>1</td>\n",
       "      <td>2</td>\n",
       "      <td>124</td>\n",
       "      <td>261</td>\n",
       "      <td>0</td>\n",
       "      <td>0</td>\n",
       "      <td>141</td>\n",
       "      <td>0</td>\n",
       "      <td>0.3</td>\n",
       "      <td>1</td>\n",
       "      <td>0</td>\n",
       "      <td>7</td>\n",
       "      <td>Presence</td>\n",
       "    </tr>\n",
       "    <tr>\n",
       "      <th>3</th>\n",
       "      <td>64</td>\n",
       "      <td>1</td>\n",
       "      <td>4</td>\n",
       "      <td>128</td>\n",
       "      <td>263</td>\n",
       "      <td>0</td>\n",
       "      <td>0</td>\n",
       "      <td>105</td>\n",
       "      <td>1</td>\n",
       "      <td>0.2</td>\n",
       "      <td>2</td>\n",
       "      <td>1</td>\n",
       "      <td>7</td>\n",
       "      <td>Absence</td>\n",
       "    </tr>\n",
       "    <tr>\n",
       "      <th>4</th>\n",
       "      <td>74</td>\n",
       "      <td>0</td>\n",
       "      <td>2</td>\n",
       "      <td>120</td>\n",
       "      <td>269</td>\n",
       "      <td>0</td>\n",
       "      <td>2</td>\n",
       "      <td>121</td>\n",
       "      <td>1</td>\n",
       "      <td>0.2</td>\n",
       "      <td>1</td>\n",
       "      <td>1</td>\n",
       "      <td>3</td>\n",
       "      <td>Absence</td>\n",
       "    </tr>\n",
       "  </tbody>\n",
       "</table>\n",
       "</div>"
      ],
      "text/plain": [
       "   Age  Sex  Chest pain type   BP  Cholesterol  FBS over 120  EKG results  \\\n",
       "0   70    1                4  130          322             0            2   \n",
       "1   67    0                3  115          564             0            2   \n",
       "2   57    1                2  124          261             0            0   \n",
       "3   64    1                4  128          263             0            0   \n",
       "4   74    0                2  120          269             0            2   \n",
       "\n",
       "   Max HR  Exercise angina  ST depression  Slope of ST  \\\n",
       "0     109                0            2.4            2   \n",
       "1     160                0            1.6            2   \n",
       "2     141                0            0.3            1   \n",
       "3     105                1            0.2            2   \n",
       "4     121                1            0.2            1   \n",
       "\n",
       "   Number of vessels fluro  Thallium Heart Disease  \n",
       "0                        3         3      Presence  \n",
       "1                        0         7       Absence  \n",
       "2                        0         7      Presence  \n",
       "3                        1         7       Absence  \n",
       "4                        1         3       Absence  "
      ]
     },
     "execution_count": 8,
     "metadata": {},
     "output_type": "execute_result"
    }
   ],
   "source": [
    "df.head()"
   ]
  },
  {
   "cell_type": "markdown",
   "id": "e6464abf",
   "metadata": {},
   "source": [
    "### Final Result Plot"
   ]
  },
  {
   "cell_type": "code",
   "execution_count": 9,
   "id": "f20c5989",
   "metadata": {
    "execution": {
     "iopub.execute_input": "2022-08-27T18:11:17.484153Z",
     "iopub.status.busy": "2022-08-27T18:11:17.483743Z",
     "iopub.status.idle": "2022-08-27T18:11:17.638838Z",
     "shell.execute_reply": "2022-08-27T18:11:17.637563Z"
    },
    "papermill": {
     "duration": 0.169459,
     "end_time": "2022-08-27T18:11:17.641960",
     "exception": false,
     "start_time": "2022-08-27T18:11:17.472501",
     "status": "completed"
    },
    "tags": []
   },
   "outputs": [
    {
     "data": {
      "text/plain": [
       "<AxesSubplot: >"
      ]
     },
     "execution_count": 9,
     "metadata": {},
     "output_type": "execute_result"
    },
    {
     "data": {
      "image/png": "[encoded data removed]",
      "text/plain": [
       "<Figure size 640x480 with 1 Axes>"
      ]
     },
     "metadata": {},
     "output_type": "display_data"
    }
   ],
   "source": [
    "sns.barplot(df, x = df['Heart Disease'].value_counts().keys() , y = df['Heart Disease'].value_counts().values)"
   ]
  },
  {
   "cell_type": "code",
   "execution_count": 10,
   "id": "7a35beaa",
   "metadata": {
    "execution": {
     "iopub.execute_input": "2022-08-27T18:11:17.686175Z",
     "iopub.status.busy": "2022-08-27T18:11:17.685115Z",
     "iopub.status.idle": "2022-08-27T18:11:17.690576Z",
     "shell.execute_reply": "2022-08-27T18:11:17.689785Z"
    },
    "papermill": {
     "duration": 0.018891,
     "end_time": "2022-08-27T18:11:17.692723",
     "exception": false,
     "start_time": "2022-08-27T18:11:17.673832",
     "status": "completed"
    },
    "tags": []
   },
   "outputs": [],
   "source": [
    "X = df[['Age']]\n",
    "y = df['Heart Disease']"
   ]
  },
  {
   "cell_type": "code",
   "execution_count": 11,
   "id": "17056c10",
   "metadata": {
    "execution": {
     "iopub.execute_input": "2022-08-27T18:11:17.715215Z",
     "iopub.status.busy": "2022-08-27T18:11:17.714443Z",
     "iopub.status.idle": "2022-08-27T18:11:17.900067Z",
     "shell.execute_reply": "2022-08-27T18:11:17.898976Z"
    },
    "papermill": {
     "duration": 0.199843,
     "end_time": "2022-08-27T18:11:17.902826",
     "exception": false,
     "start_time": "2022-08-27T18:11:17.702983",
     "status": "completed"
    },
    "tags": []
   },
   "outputs": [],
   "source": [
    "from sklearn.model_selection import train_test_split\n",
    "\n",
    "X_train, X_test, y_train, y_test = train_test_split(X,y,test_size=0.3, random_state=2529, stratify =y)"
   ]
  },
  {
   "cell_type": "code",
   "execution_count": 12,
   "id": "b018c35c",
   "metadata": {
    "execution": {
     "iopub.execute_input": "2022-08-27T18:11:17.925662Z",
     "iopub.status.busy": "2022-08-27T18:11:17.925249Z",
     "iopub.status.idle": "2022-08-27T18:11:17.932852Z",
     "shell.execute_reply": "2022-08-27T18:11:17.931675Z"
    },
    "papermill": {
     "duration": 0.022346,
     "end_time": "2022-08-27T18:11:17.935469",
     "exception": false,
     "start_time": "2022-08-27T18:11:17.913123",
     "status": "completed"
    },
    "tags": []
   },
   "outputs": [],
   "source": [
    "from sklearn.naive_bayes import MultinomialNB"
   ]
  },
  {
   "cell_type": "code",
   "execution_count": 13,
   "id": "c92abe6a",
   "metadata": {
    "execution": {
     "iopub.execute_input": "2022-08-27T18:11:17.957839Z",
     "iopub.status.busy": "2022-08-27T18:11:17.957426Z",
     "iopub.status.idle": "2022-08-27T18:11:17.962327Z",
     "shell.execute_reply": "2022-08-27T18:11:17.961161Z"
    },
    "papermill": {
     "duration": 0.018745,
     "end_time": "2022-08-27T18:11:17.964567",
     "exception": false,
     "start_time": "2022-08-27T18:11:17.945822",
     "status": "completed"
    },
    "tags": []
   },
   "outputs": [],
   "source": [
    "nb = MultinomialNB()"
   ]
  },
  {
   "cell_type": "code",
   "execution_count": 14,
   "id": "72a5c84b",
   "metadata": {
    "execution": {
     "iopub.execute_input": "2022-08-27T18:11:17.987343Z",
     "iopub.status.busy": "2022-08-27T18:11:17.986671Z",
     "iopub.status.idle": "2022-08-27T18:11:17.998323Z",
     "shell.execute_reply": "2022-08-27T18:11:17.997154Z"
    },
    "papermill": {
     "duration": 0.025944,
     "end_time": "2022-08-27T18:11:18.000746",
     "exception": false,
     "start_time": "2022-08-27T18:11:17.974802",
     "status": "completed"
    },
    "tags": []
   },
   "outputs": [
    {
     "data": {
      "text/html": [
       "<style>#sk-container-id-1 {color: black;background-color: white;}#sk-container-id-1 pre{padding: 0;}#sk-container-id-1 div.sk-toggleable {background-color: white;}#sk-container-id-1 label.sk-toggleable__label {cursor: pointer;display: block;width: 100%;margin-bottom: 0;padding: 0.3em;box-sizing: border-box;text-align: center;}#sk-container-id-1 label.sk-toggleable__label-arrow:before {content: \"▸\";float: left;margin-right: 0.25em;color: #696969;}#sk-container-id-1 label.sk-toggleable__label-arrow:hover:before {color: black;}#sk-container-id-1 div.sk-estimator:hover label.sk-toggleable__label-arrow:before {color: black;}#sk-container-id-1 div.sk-toggleable__content {max-height: 0;max-width: 0;overflow: hidden;text-align: left;background-color: #f0f8ff;}#sk-container-id-1 div.sk-toggleable__content pre {margin: 0.2em;color: black;border-radius: 0.25em;background-color: #f0f8ff;}#sk-container-id-1 input.sk-toggleable__control:checked~div.sk-toggleable__content {max-height: 200px;max-width: 100%;overflow: auto;}#sk-container-id-1 input.sk-toggleable__control:checked~label.sk-toggleable__label-arrow:before {content: \"▾\";}#sk-container-id-1 div.sk-estimator input.sk-toggleable__control:checked~label.sk-toggleable__label {background-color: #d4ebff;}#sk-container-id-1 div.sk-label input.sk-toggleable__control:checked~label.sk-toggleable__label {background-color: #d4ebff;}#sk-container-id-1 input.sk-hidden--visually {border: 0;clip: rect(1px 1px 1px 1px);clip: rect(1px, 1px, 1px, 1px);height: 1px;margin: -1px;overflow: hidden;padding: 0;position: absolute;width: 1px;}#sk-container-id-1 div.sk-estimator {font-family: monospace;background-color: #f0f8ff;border: 1px dotted black;border-radius: 0.25em;box-sizing: border-box;margin-bottom: 0.5em;}#sk-container-id-1 div.sk-estimator:hover {background-color: #d4ebff;}#sk-container-id-1 div.sk-parallel-item::after {content: \"\";width: 100%;border-bottom: 1px solid gray;flex-grow: 1;}#sk-container-id-1 div.sk-label:hover label.sk-toggleable__label {background-color: #d4ebff;}#sk-container-id-1 div.sk-serial::before {content: \"\";position: absolute;border-left: 1px solid gray;box-sizing: border-box;top: 0;bottom: 0;left: 50%;z-index: 0;}#sk-container-id-1 div.sk-serial {display: flex;flex-direction: column;align-items: center;background-color: white;padding-right: 0.2em;padding-left: 0.2em;position: relative;}#sk-container-id-1 div.sk-item {position: relative;z-index: 1;}#sk-container-id-1 div.sk-parallel {display: flex;align-items: stretch;justify-content: center;background-color: white;position: relative;}#sk-container-id-1 div.sk-item::before, #sk-container-id-1 div.sk-parallel-item::before {content: \"\";position: absolute;border-left: 1px solid gray;box-sizing: border-box;top: 0;bottom: 0;left: 50%;z-index: -1;}#sk-container-id-1 div.sk-parallel-item {display: flex;flex-direction: column;z-index: 1;position: relative;background-color: white;}#sk-container-id-1 div.sk-parallel-item:first-child::after {align-self: flex-end;width: 50%;}#sk-container-id-1 div.sk-parallel-item:last-child::after {align-self: flex-start;width: 50%;}#sk-container-id-1 div.sk-parallel-item:only-child::after {width: 0;}#sk-container-id-1 div.sk-dashed-wrapped {border: 1px dashed gray;margin: 0 0.4em 0.5em 0.4em;box-sizing: border-box;padding-bottom: 0.4em;background-color: white;}#sk-container-id-1 div.sk-label label {font-family: monospace;font-weight: bold;display: inline-block;line-height: 1.2em;}#sk-container-id-1 div.sk-label-container {text-align: center;}#sk-container-id-1 div.sk-container {/* jupyter's `normalize.less` sets `[hidden] { display: none; }` but bootstrap.min.css set `[hidden] { display: none !important; }` so we also need the `!important` here to be able to override the default hidden behavior on the sphinx rendered scikit-learn.org. See: https://github.com/scikit-learn/scikit-learn/issues/21755 */display: inline-block !important;position: relative;}#sk-container-id-1 div.sk-text-repr-fallback {display: none;}</style><div id=\"sk-container-id-1\" class=\"sk-top-container\"><div class=\"sk-text-repr-fallback\"><pre>MultinomialNB()</pre><b>In a Jupyter environment, please rerun this cell to show the HTML representation or trust the notebook. <br />On GitHub, the HTML representation is unable to render, please try loading this page with nbviewer.org.</b></div><div class=\"sk-container\" hidden><div class=\"sk-item\"><div class=\"sk-estimator sk-toggleable\"><input class=\"sk-toggleable__control sk-hidden--visually\" id=\"sk-estimator-id-1\" type=\"checkbox\" checked><label for=\"sk-estimator-id-1\" class=\"sk-toggleable__label sk-toggleable__label-arrow\">MultinomialNB</label><div class=\"sk-toggleable__content\"><pre>MultinomialNB()</pre></div></div></div></div></div>"
      ],
      "text/plain": [
       "MultinomialNB()"
      ]
     },
     "execution_count": 14,
     "metadata": {},
     "output_type": "execute_result"
    }
   ],
   "source": [
    "nb.fit(X_train, y_train)"
   ]
  },
  {
   "cell_type": "code",
   "execution_count": 15,
   "id": "4f7191a1",
   "metadata": {
    "execution": {
     "iopub.execute_input": "2022-08-27T18:11:18.023252Z",
     "iopub.status.busy": "2022-08-27T18:11:18.022867Z",
     "iopub.status.idle": "2022-08-27T18:11:18.029514Z",
     "shell.execute_reply": "2022-08-27T18:11:18.028607Z"
    },
    "papermill": {
     "duration": 0.020623,
     "end_time": "2022-08-27T18:11:18.031738",
     "exception": false,
     "start_time": "2022-08-27T18:11:18.011115",
     "status": "completed"
    },
    "tags": []
   },
   "outputs": [],
   "source": [
    "y_pred = nb.predict(X_test)"
   ]
  },
  {
   "cell_type": "code",
   "execution_count": 16,
   "id": "31e82edd",
   "metadata": {
    "execution": {
     "iopub.execute_input": "2022-08-27T18:11:18.055243Z",
     "iopub.status.busy": "2022-08-27T18:11:18.054212Z",
     "iopub.status.idle": "2022-08-27T18:11:18.062174Z",
     "shell.execute_reply": "2022-08-27T18:11:18.061044Z"
    },
    "papermill": {
     "duration": 0.022303,
     "end_time": "2022-08-27T18:11:18.064648",
     "exception": false,
     "start_time": "2022-08-27T18:11:18.042345",
     "status": "completed"
    },
    "tags": []
   },
   "outputs": [],
   "source": [
    "y_test_int = []\n",
    "for p in y_test:\n",
    "    if p == 'Presence':\n",
    "        y_test_int.append(1)\n",
    "    else:\n",
    "        y_test_int.append(0)"
   ]
  },
  {
   "cell_type": "code",
   "execution_count": 17,
   "id": "694fb055",
   "metadata": {
    "execution": {
     "iopub.execute_input": "2022-08-27T18:11:18.087466Z",
     "iopub.status.busy": "2022-08-27T18:11:18.086805Z",
     "iopub.status.idle": "2022-08-27T18:11:18.094013Z",
     "shell.execute_reply": "2022-08-27T18:11:18.092984Z"
    },
    "papermill": {
     "duration": 0.021406,
     "end_time": "2022-08-27T18:11:18.096381",
     "exception": false,
     "start_time": "2022-08-27T18:11:18.074975",
     "status": "completed"
    },
    "tags": []
   },
   "outputs": [],
   "source": [
    "y_pred_int = []\n",
    "for p in y_pred:\n",
    "    if p == 'Presence':\n",
    "        y_pred_int.append(1)\n",
    "    else:\n",
    "        y_pred_int.append(0)"
   ]
  },
  {
   "cell_type": "code",
   "execution_count": 18,
   "id": "fa4da47d",
   "metadata": {
    "execution": {
     "iopub.execute_input": "2022-08-27T18:11:18.119622Z",
     "iopub.status.busy": "2022-08-27T18:11:18.119219Z",
     "iopub.status.idle": "2022-08-27T18:11:18.124183Z",
     "shell.execute_reply": "2022-08-27T18:11:18.123087Z"
    },
    "papermill": {
     "duration": 0.019349,
     "end_time": "2022-08-27T18:11:18.126552",
     "exception": false,
     "start_time": "2022-08-27T18:11:18.107203",
     "status": "completed"
    },
    "tags": []
   },
   "outputs": [],
   "source": [
    "from sklearn.metrics import confusion_matrix,mean_squared_error"
   ]
  },
  {
   "cell_type": "code",
   "execution_count": 19,
   "id": "83ee0ad5",
   "metadata": {
    "execution": {
     "iopub.execute_input": "2022-08-27T18:11:18.149780Z",
     "iopub.status.busy": "2022-08-27T18:11:18.148943Z",
     "iopub.status.idle": "2022-08-27T18:11:18.158961Z",
     "shell.execute_reply": "2022-08-27T18:11:18.157894Z"
    },
    "papermill": {
     "duration": 0.024211,
     "end_time": "2022-08-27T18:11:18.161250",
     "exception": false,
     "start_time": "2022-08-27T18:11:18.137039",
     "status": "completed"
    },
    "tags": []
   },
   "outputs": [
    {
     "data": {
      "text/plain": [
       "array([[45,  0],\n",
       "       [36,  0]], dtype=int64)"
      ]
     },
     "execution_count": 19,
     "metadata": {},
     "output_type": "execute_result"
    }
   ],
   "source": [
    "confusion_matrix(y_test,y_pred)"
   ]
  },
  {
   "cell_type": "code",
   "execution_count": 20,
   "id": "bbf31074",
   "metadata": {
    "execution": {
     "iopub.execute_input": "2022-08-27T18:11:18.184245Z",
     "iopub.status.busy": "2022-08-27T18:11:18.183827Z",
     "iopub.status.idle": "2022-08-27T18:11:18.191646Z",
     "shell.execute_reply": "2022-08-27T18:11:18.190472Z"
    },
    "papermill": {
     "duration": 0.022055,
     "end_time": "2022-08-27T18:11:18.194023",
     "exception": false,
     "start_time": "2022-08-27T18:11:18.171968",
     "status": "completed"
    },
    "tags": []
   },
   "outputs": [
    {
     "data": {
      "text/plain": [
       "0.4444444444444444"
      ]
     },
     "execution_count": 20,
     "metadata": {},
     "output_type": "execute_result"
    }
   ],
   "source": [
    "mean_squared_error(y_test_int,y_pred_int)"
   ]
  },
  {
   "cell_type": "code",
   "execution_count": 21,
   "id": "2db417b4",
   "metadata": {
    "execution": {
     "iopub.execute_input": "2022-08-27T18:11:18.217538Z",
     "iopub.status.busy": "2022-08-27T18:11:18.217138Z",
     "iopub.status.idle": "2022-08-27T18:11:18.224362Z",
     "shell.execute_reply": "2022-08-27T18:11:18.223217Z"
    },
    "papermill": {
     "duration": 0.021978,
     "end_time": "2022-08-27T18:11:18.226736",
     "exception": false,
     "start_time": "2022-08-27T18:11:18.204758",
     "status": "completed"
    },
    "tags": []
   },
   "outputs": [
    {
     "data": {
      "text/plain": [
       "Index(['Age', 'Sex', 'Chest pain type', 'BP', 'Cholesterol', 'FBS over 120',\n",
       "       'EKG results', 'Max HR', 'Exercise angina', 'ST depression',\n",
       "       'Slope of ST', 'Number of vessels fluro', 'Thallium', 'Heart Disease'],\n",
       "      dtype='object')"
      ]
     },
     "execution_count": 21,
     "metadata": {},
     "output_type": "execute_result"
    }
   ],
   "source": [
    "df.columns"
   ]
  },
  {
   "cell_type": "code",
   "execution_count": 22,
   "id": "9bf0fcfa",
   "metadata": {
    "execution": {
     "iopub.execute_input": "2022-08-27T18:11:18.250491Z",
     "iopub.status.busy": "2022-08-27T18:11:18.250090Z",
     "iopub.status.idle": "2022-08-27T18:11:18.256499Z",
     "shell.execute_reply": "2022-08-27T18:11:18.255110Z"
    },
    "papermill": {
     "duration": 0.021564,
     "end_time": "2022-08-27T18:11:18.259121",
     "exception": false,
     "start_time": "2022-08-27T18:11:18.237557",
     "status": "completed"
    },
    "tags": []
   },
   "outputs": [],
   "source": [
    "X = df[['Age','BP', 'Cholesterol']]\n",
    "\n",
    "y= df['Heart Disease']"
   ]
  },
  {
   "cell_type": "code",
   "execution_count": 23,
   "id": "3aee67e8",
   "metadata": {
    "execution": {
     "iopub.execute_input": "2022-08-27T18:11:18.282887Z",
     "iopub.status.busy": "2022-08-27T18:11:18.282478Z",
     "iopub.status.idle": "2022-08-27T18:11:18.288684Z",
     "shell.execute_reply": "2022-08-27T18:11:18.287867Z"
    },
    "papermill": {
     "duration": 0.020719,
     "end_time": "2022-08-27T18:11:18.290791",
     "exception": false,
     "start_time": "2022-08-27T18:11:18.270072",
     "status": "completed"
    },
    "tags": []
   },
   "outputs": [
    {
     "data": {
      "text/plain": [
       "((270, 3), (270,))"
      ]
     },
     "execution_count": 23,
     "metadata": {},
     "output_type": "execute_result"
    }
   ],
   "source": [
    "X.shape,y.shape"
   ]
  },
  {
   "cell_type": "code",
   "execution_count": 24,
   "id": "7f1ddcd6",
   "metadata": {
    "execution": {
     "iopub.execute_input": "2022-08-27T18:11:18.314785Z",
     "iopub.status.busy": "2022-08-27T18:11:18.314044Z",
     "iopub.status.idle": "2022-08-27T18:11:18.321973Z",
     "shell.execute_reply": "2022-08-27T18:11:18.321084Z"
    },
    "papermill": {
     "duration": 0.022131,
     "end_time": "2022-08-27T18:11:18.323989",
     "exception": false,
     "start_time": "2022-08-27T18:11:18.301858",
     "status": "completed"
    },
    "tags": []
   },
   "outputs": [],
   "source": [
    "from sklearn.model_selection import train_test_split\n",
    "\n",
    "X_train, X_test, y_train, y_test = train_test_split(X,y,test_size=0.3, random_state=2529)"
   ]
  },
  {
   "cell_type": "code",
   "execution_count": 25,
   "id": "3b02ccfe",
   "metadata": {
    "execution": {
     "iopub.execute_input": "2022-08-27T18:11:18.347606Z",
     "iopub.status.busy": "2022-08-27T18:11:18.346948Z",
     "iopub.status.idle": "2022-08-27T18:11:18.352117Z",
     "shell.execute_reply": "2022-08-27T18:11:18.350856Z"
    },
    "papermill": {
     "duration": 0.019438,
     "end_time": "2022-08-27T18:11:18.354482",
     "exception": false,
     "start_time": "2022-08-27T18:11:18.335044",
     "status": "completed"
    },
    "tags": []
   },
   "outputs": [],
   "source": [
    "from sklearn.naive_bayes import GaussianNB\n",
    "nb = GaussianNB()"
   ]
  },
  {
   "cell_type": "code",
   "execution_count": 26,
   "id": "8a8e4b13",
   "metadata": {
    "execution": {
     "iopub.execute_input": "2022-08-27T18:11:18.378450Z",
     "iopub.status.busy": "2022-08-27T18:11:18.378057Z",
     "iopub.status.idle": "2022-08-27T18:11:18.387855Z",
     "shell.execute_reply": "2022-08-27T18:11:18.386855Z"
    },
    "papermill": {
     "duration": 0.024496,
     "end_time": "2022-08-27T18:11:18.389991",
     "exception": false,
     "start_time": "2022-08-27T18:11:18.365495",
     "status": "completed"
    },
    "tags": []
   },
   "outputs": [
    {
     "data": {
      "text/html": [
       "<style>#sk-container-id-2 {color: black;background-color: white;}#sk-container-id-2 pre{padding: 0;}#sk-container-id-2 div.sk-toggleable {background-color: white;}#sk-container-id-2 label.sk-toggleable__label {cursor: pointer;display: block;width: 100%;margin-bottom: 0;padding: 0.3em;box-sizing: border-box;text-align: center;}#sk-container-id-2 label.sk-toggleable__label-arrow:before {content: \"▸\";float: left;margin-right: 0.25em;color: #696969;}#sk-container-id-2 label.sk-toggleable__label-arrow:hover:before {color: black;}#sk-container-id-2 div.sk-estimator:hover label.sk-toggleable__label-arrow:before {color: black;}#sk-container-id-2 div.sk-toggleable__content {max-height: 0;max-width: 0;overflow: hidden;text-align: left;background-color: #f0f8ff;}#sk-container-id-2 div.sk-toggleable__content pre {margin: 0.2em;color: black;border-radius: 0.25em;background-color: #f0f8ff;}#sk-container-id-2 input.sk-toggleable__control:checked~div.sk-toggleable__content {max-height: 200px;max-width: 100%;overflow: auto;}#sk-container-id-2 input.sk-toggleable__control:checked~label.sk-toggleable__label-arrow:before {content: \"▾\";}#sk-container-id-2 div.sk-estimator input.sk-toggleable__control:checked~label.sk-toggleable__label {background-color: #d4ebff;}#sk-container-id-2 div.sk-label input.sk-toggleable__control:checked~label.sk-toggleable__label {background-color: #d4ebff;}#sk-container-id-2 input.sk-hidden--visually {border: 0;clip: rect(1px 1px 1px 1px);clip: rect(1px, 1px, 1px, 1px);height: 1px;margin: -1px;overflow: hidden;padding: 0;position: absolute;width: 1px;}#sk-container-id-2 div.sk-estimator {font-family: monospace;background-color: #f0f8ff;border: 1px dotted black;border-radius: 0.25em;box-sizing: border-box;margin-bottom: 0.5em;}#sk-container-id-2 div.sk-estimator:hover {background-color: #d4ebff;}#sk-container-id-2 div.sk-parallel-item::after {content: \"\";width: 100%;border-bottom: 1px solid gray;flex-grow: 1;}#sk-container-id-2 div.sk-label:hover label.sk-toggleable__label {background-color: #d4ebff;}#sk-container-id-2 div.sk-serial::before {content: \"\";position: absolute;border-left: 1px solid gray;box-sizing: border-box;top: 0;bottom: 0;left: 50%;z-index: 0;}#sk-container-id-2 div.sk-serial {display: flex;flex-direction: column;align-items: center;background-color: white;padding-right: 0.2em;padding-left: 0.2em;position: relative;}#sk-container-id-2 div.sk-item {position: relative;z-index: 1;}#sk-container-id-2 div.sk-parallel {display: flex;align-items: stretch;justify-content: center;background-color: white;position: relative;}#sk-container-id-2 div.sk-item::before, #sk-container-id-2 div.sk-parallel-item::before {content: \"\";position: absolute;border-left: 1px solid gray;box-sizing: border-box;top: 0;bottom: 0;left: 50%;z-index: -1;}#sk-container-id-2 div.sk-parallel-item {display: flex;flex-direction: column;z-index: 1;position: relative;background-color: white;}#sk-container-id-2 div.sk-parallel-item:first-child::after {align-self: flex-end;width: 50%;}#sk-container-id-2 div.sk-parallel-item:last-child::after {align-self: flex-start;width: 50%;}#sk-container-id-2 div.sk-parallel-item:only-child::after {width: 0;}#sk-container-id-2 div.sk-dashed-wrapped {border: 1px dashed gray;margin: 0 0.4em 0.5em 0.4em;box-sizing: border-box;padding-bottom: 0.4em;background-color: white;}#sk-container-id-2 div.sk-label label {font-family: monospace;font-weight: bold;display: inline-block;line-height: 1.2em;}#sk-container-id-2 div.sk-label-container {text-align: center;}#sk-container-id-2 div.sk-container {/* jupyter's `normalize.less` sets `[hidden] { display: none; }` but bootstrap.min.css set `[hidden] { display: none !important; }` so we also need the `!important` here to be able to override the default hidden behavior on the sphinx rendered scikit-learn.org. See: https://github.com/scikit-learn/scikit-learn/issues/21755 */display: inline-block !important;position: relative;}#sk-container-id-2 div.sk-text-repr-fallback {display: none;}</style><div id=\"sk-container-id-2\" class=\"sk-top-container\"><div class=\"sk-text-repr-fallback\"><pre>GaussianNB()</pre><b>In a Jupyter environment, please rerun this cell to show the HTML representation or trust the notebook. <br />On GitHub, the HTML representation is unable to render, please try loading this page with nbviewer.org.</b></div><div class=\"sk-container\" hidden><div class=\"sk-item\"><div class=\"sk-estimator sk-toggleable\"><input class=\"sk-toggleable__control sk-hidden--visually\" id=\"sk-estimator-id-2\" type=\"checkbox\" checked><label for=\"sk-estimator-id-2\" class=\"sk-toggleable__label sk-toggleable__label-arrow\">GaussianNB</label><div class=\"sk-toggleable__content\"><pre>GaussianNB()</pre></div></div></div></div></div>"
      ],
      "text/plain": [
       "GaussianNB()"
      ]
     },
     "execution_count": 26,
     "metadata": {},
     "output_type": "execute_result"
    }
   ],
   "source": [
    "nb.fit(X_train, y_train)"
   ]
  },
  {
   "cell_type": "code",
   "execution_count": 27,
   "id": "50723319",
   "metadata": {
    "execution": {
     "iopub.execute_input": "2022-08-27T18:11:18.414728Z",
     "iopub.status.busy": "2022-08-27T18:11:18.413441Z",
     "iopub.status.idle": "2022-08-27T18:11:18.420305Z",
     "shell.execute_reply": "2022-08-27T18:11:18.419494Z"
    },
    "papermill": {
     "duration": 0.021351,
     "end_time": "2022-08-27T18:11:18.422529",
     "exception": false,
     "start_time": "2022-08-27T18:11:18.401178",
     "status": "completed"
    },
    "tags": []
   },
   "outputs": [
    {
     "name": "stdout",
     "output_type": "stream",
     "text": [
      "[]\n"
     ]
    }
   ],
   "source": [
    "y_pred  = nb.predict(X_test)\n",
    "y_pred_int2 = []\n",
    "for p in y_pred:\n",
    "    if p == 'Presence':\n",
    "        y_pred_int.append(1)\n",
    "    else:\n",
    "        y_pred_int.append(0)\n",
    "print(y_pred_int2)"
   ]
  },
  {
   "cell_type": "code",
   "execution_count": 28,
   "id": "b4d701bc",
   "metadata": {
    "execution": {
     "iopub.execute_input": "2022-08-27T18:11:18.446438Z",
     "iopub.status.busy": "2022-08-27T18:11:18.446045Z",
     "iopub.status.idle": "2022-08-27T18:11:18.452441Z",
     "shell.execute_reply": "2022-08-27T18:11:18.451666Z"
    },
    "papermill": {
     "duration": 0.020808,
     "end_time": "2022-08-27T18:11:18.454394",
     "exception": false,
     "start_time": "2022-08-27T18:11:18.433586",
     "status": "completed"
    },
    "tags": []
   },
   "outputs": [
    {
     "name": "stdout",
     "output_type": "stream",
     "text": [
      "[]\n"
     ]
    }
   ],
   "source": [
    "y_test.head()\n",
    "y_test_int2 = []\n",
    "for p in y_test:\n",
    "    if p == 'Presence':\n",
    "        y_test_int.append(1)\n",
    "    else:\n",
    "        y_test_int.append(0)\n",
    "print(y_test_int2)"
   ]
  },
  {
   "cell_type": "code",
   "execution_count": 29,
   "id": "02957325",
   "metadata": {
    "execution": {
     "iopub.execute_input": "2022-08-27T18:11:18.478476Z",
     "iopub.status.busy": "2022-08-27T18:11:18.477773Z",
     "iopub.status.idle": "2022-08-27T18:11:18.483601Z",
     "shell.execute_reply": "2022-08-27T18:11:18.482824Z"
    },
    "papermill": {
     "duration": 0.020237,
     "end_time": "2022-08-27T18:11:18.485587",
     "exception": false,
     "start_time": "2022-08-27T18:11:18.465350",
     "status": "completed"
    },
    "tags": []
   },
   "outputs": [
    {
     "data": {
      "text/plain": [
       "array(['Presence', 'Absence', 'Absence', 'Absence', 'Absence'],\n",
       "      dtype='<U8')"
      ]
     },
     "execution_count": 29,
     "metadata": {},
     "output_type": "execute_result"
    }
   ],
   "source": [
    "y_pred[0:5]"
   ]
  },
  {
   "cell_type": "code",
   "execution_count": 30,
   "id": "17c3cbaf",
   "metadata": {
    "execution": {
     "iopub.execute_input": "2022-08-27T18:11:18.510126Z",
     "iopub.status.busy": "2022-08-27T18:11:18.509368Z",
     "iopub.status.idle": "2022-08-27T18:11:18.516447Z",
     "shell.execute_reply": "2022-08-27T18:11:18.515648Z"
    },
    "papermill": {
     "duration": 0.021738,
     "end_time": "2022-08-27T18:11:18.518530",
     "exception": false,
     "start_time": "2022-08-27T18:11:18.496792",
     "status": "completed"
    },
    "tags": []
   },
   "outputs": [
    {
     "data": {
      "text/plain": [
       "array([[32, 18],\n",
       "       [14, 17]], dtype=int64)"
      ]
     },
     "execution_count": 30,
     "metadata": {},
     "output_type": "execute_result"
    }
   ],
   "source": [
    "confusion_matrix(y_test,y_pred)"
   ]
  },
  {
   "cell_type": "code",
   "execution_count": 31,
   "id": "8425144c",
   "metadata": {
    "execution": {
     "iopub.execute_input": "2022-08-27T18:11:18.543845Z",
     "iopub.status.busy": "2022-08-27T18:11:18.543114Z",
     "iopub.status.idle": "2022-08-27T18:11:18.549438Z",
     "shell.execute_reply": "2022-08-27T18:11:18.548660Z"
    },
    "papermill": {
     "duration": 0.021633,
     "end_time": "2022-08-27T18:11:18.551588",
     "exception": false,
     "start_time": "2022-08-27T18:11:18.529955",
     "status": "completed"
    },
    "tags": []
   },
   "outputs": [
    {
     "data": {
      "text/plain": [
       "0.41975308641975306"
      ]
     },
     "execution_count": 31,
     "metadata": {},
     "output_type": "execute_result"
    }
   ],
   "source": [
    "mean_squared_error(y_test_int,y_pred_int)"
   ]
  },
  {
   "cell_type": "code",
   "execution_count": null,
   "id": "9cf4dd41",
   "metadata": {
    "papermill": {
     "duration": 0.011103,
     "end_time": "2022-08-27T18:11:18.574150",
     "exception": false,
     "start_time": "2022-08-27T18:11:18.563047",
     "status": "completed"
    },
    "tags": []
   },
   "outputs": [],
   "source": []
  }
 ],
 "metadata": {
  "kernelspec": {
   "display_name": "Python 3 (ipykernel)",
   "language": "python",
   "name": "python3"
  },
  "language_info": {
   "codemirror_mode": {
    "name": "ipython",
    "version": 3
   },
   "file_extension": ".py",
   "mimetype": "text/x-python",
   "name": "python",
   "nbconvert_exporter": "python",
   "pygments_lexer": "ipython3",
   "version": "3.10.6"
  },
  "papermill": {
   "default_parameters": {},
   "duration": 12.864783,
   "end_time": "2022-08-27T18:11:19.307684",
   "environment_variables": {},
   "exception": null,
   "input_path": "__notebook__.ipynb",
   "output_path": "__notebook__.ipynb",
   "parameters": {},
   "start_time": "2022-08-27T18:11:06.442901",
   "version": "2.3.4"
  }
 },
 "nbformat": 4,
 "nbformat_minor": 5
}
